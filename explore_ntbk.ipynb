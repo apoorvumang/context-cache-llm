{
 "cells": [
  {
   "cell_type": "code",
   "execution_count": 1,
   "metadata": {},
   "outputs": [
    {
     "name": "stderr",
     "output_type": "stream",
     "text": [
      "/Users/apoorvs/miniconda3/envs/context_cache_env/lib/python3.11/site-packages/tqdm/auto.py:21: TqdmWarning: IProgress not found. Please update jupyter and ipywidgets. See https://ipywidgets.readthedocs.io/en/stable/user_install.html\n",
      "  from .autonotebook import tqdm as notebook_tqdm\n",
      "None of PyTorch, TensorFlow >= 2.0, or Flax have been found. Models won't be available and only tokenizers, configuration and file/data utilities can be used.\n"
     ]
    }
   ],
   "source": [
    "from mlx_lm import load\n",
    "from context_cache_llm import ContextCachingLLM\n"
   ]
  },
  {
   "cell_type": "code",
   "execution_count": 3,
   "metadata": {},
   "outputs": [
    {
     "name": "stderr",
     "output_type": "stream",
     "text": [
      "Fetching 6 files: 100%|██████████| 6/6 [00:00<00:00, 83607.39it/s]\n",
      "Special tokens have been added in the vocabulary, make sure the associated word embeddings are fine-tuned or trained.\n"
     ]
    }
   ],
   "source": [
    "model, tokenizer = load(\"mlx-community/Meta-Llama-3-8B-Instruct-4bit\")"
   ]
  },
  {
   "cell_type": "code",
   "execution_count": 4,
   "metadata": {},
   "outputs": [],
   "source": [
    "llm_session = ContextCachingLLM(model, tokenizer, verbose_time=True)"
   ]
  },
  {
   "cell_type": "code",
   "execution_count": 12,
   "metadata": {},
   "outputs": [],
   "source": [
    "llm_session.reset_messages()"
   ]
  },
  {
   "cell_type": "code",
   "execution_count": 13,
   "metadata": {},
   "outputs": [
    {
     "name": "stdout",
     "output_type": "stream",
     "text": [
      "Starting to prepare context...\n",
      "Time taken to update cache: 5.938 seconds for 2698 tokens.\n",
      "Context prepared.\n"
     ]
    }
   ],
   "source": [
    "with open(\"large_doc.txt\", \"r\") as f:\n",
    "        doc = f.read()\n",
    "    \n",
    "system_prompt = f\"\"\"You are a helpful assistant. The user has selected some content from a website given below as CONTEXT. \n",
    "Please answer the user's questions related to that. Some key points:\n",
    "- Always give a direct answer without any prefix or disclaimer.\n",
    "- User prefers shorter, to the point answers.\n",
    "\n",
    "CONTEXT:{doc}\"\"\"\n",
    "\n",
    "print(\"Starting to prepare context...\")\n",
    "llm_session.add_message(system_prompt, role=\"system\", update_cache=True)\n",
    "print(\"Context prepared.\")"
   ]
  },
  {
   "cell_type": "code",
   "execution_count": 15,
   "metadata": {},
   "outputs": [
    {
     "name": "stdout",
     "output_type": "stream",
     "text": [
      "Prompt: 2006.296 tokens-per-sec, 1.372 prompt time, 2752 tokens.\n",
      "Generation: 29.124 tokens-per-sec, 0.069 generation time, 3 tokens.\n",
      "Generated response:\n",
      "Andrew Sullivan\n"
     ]
    }
   ],
   "source": [
    "question = \"Who might have written this, just make 1 guess. No blabbering\"\n",
    "\n",
    "llm_session.add_message(question, role=\"user\", update_cache=False)\n",
    "response = llm_session.generate(temp=0.7, max_tokens=5)\n",
    "print(\"Generated response:\")\n",
    "print(response)"
   ]
  },
  {
   "cell_type": "code",
   "execution_count": 16,
   "metadata": {},
   "outputs": [
    {
     "data": {
      "text/plain": [
       "[{'role': 'system',\n",
       "  'content': 'You are a helpful assistant. The user has selected some content from a website given below as CONTEXT. \\nPlease answer the user\\'s questions related to that. Some key points:\\n- Always give a direct answer without any prefix or disclaimer.\\n- User prefers shorter, to the point answers.\\n\\nCONTEXT:\\t\\t\\n\\nHeresy\\n\\nApril 2022\\n\\nOne of the most surprising things I\\'ve witnessed in my lifetime is the rebirth of the concept of heresy.\\n\\nIn his excellent biography of Newton, Richard Westfall writes about the moment when he was elected a fellow of Trinity College:\\nSupported comfortably, Newton was free to devote himself wholly to whatever he chose. To remain on, he had only to avoid the three unforgivable sins: crime, heresy, and marriage. [1]\\nThe first time I read that, in the 1990s, it sounded amusingly medieval. How strange, to have to avoid committing heresy. But when I reread it 20 years later it sounded like a description of contemporary employment.\\n\\nThere are an ever-increasing number of opinions you can be fired for. Those doing the firing don\\'t use the word \"heresy\" to describe them, but structurally they\\'re equivalent. Structurally there are two distinctive things about heresy: (1) that it takes priority over the question of truth or falsity, and (2) that it outweighs everything else the speaker has done.\\n\\nFor example, when someone calls a statement \"x-ist,\" they\\'re also implicitly saying that this is the end of the discussion. They do not, having said this, go on to consider whether the statement is true or not. Using such labels is the conversational equivalent of signalling an exception. That\\'s one of the reasons they\\'re used: to end a discussion.\\n\\nIf you find yourself talking to someone who uses these labels a lot, it might be worthwhile to ask them explicitly if they believe any babies are being thrown out with the bathwater. Can a statement be x-ist, for whatever value of x, and also true? If the answer is yes, then they\\'re admitting to banning the truth. That\\'s obvious enough that I\\'d guess most would answer no. But if they answer no, it\\'s easy to show that they\\'re mistaken, and that in practice such labels are applied to statements regardless of their truth or falsity.\\n\\nThe clearest evidence of this is that whether a statement is considered x-ist often depends on who said it. Truth doesn\\'t work that way. The same statement can\\'t be true when one person says it, but x-ist, and therefore false, when another person does. [2]\\n\\nThe other distinctive thing about heresies, compared to ordinary opinions, is that the public expression of them outweighs everything else the speaker has done. In ordinary matters, like knowledge of history, or taste in music, you\\'re judged by the average of your opinions. A heresy is qualitatively different. It\\'s like dropping a chunk of uranium onto the scale.\\n\\nBack in the day (and still, in some places) the punishment for heresy was death. You could have led a life of exemplary goodness, but if you publicly doubted, say, the divinity of Christ, you were going to burn. Nowadays, in civilized countries, heretics only get fired in the metaphorical sense, by losing their jobs. But the structure of the situation is the same: the heresy outweighs everything else. You could have spent the last ten years saving children\\'s lives, but if you express certain opinions, you\\'re automatically fired.\\n\\nIt\\'s much the same as if you committed a crime. No matter how virtuously you\\'ve lived, if you commit a crime, you must still suffer the penalty of the law. Having lived a previously blameless life might mitigate the punishment, but it doesn\\'t affect whether you\\'re guilty or not.\\n\\nA heresy is an opinion whose expression is treated like a crime — one that makes some people feel not merely that you\\'re mistaken, but that you should be punished. Indeed, their desire to see you punished is often stronger than it would be if you\\'d committed an actual crime. There are many on the far left who believe strongly in the reintegration of felons (as I do myself), and yet seem to feel that anyone guilty of certain heresies should never work again.\\n\\nThere are always some heresies — some opinions you\\'d be punished for expressing. But there are a lot more now than there were a few decades ago, and even those who are happy about this would have to agree that it\\'s so.\\n\\nWhy? Why has this antiquated-sounding religious concept come back in a secular form? And why now?\\n\\nYou need two ingredients for a wave of intolerance: intolerant people, and an ideology to guide them. The intolerant people are always there. They exist in every sufficiently large society. That\\'s why waves of intolerance can arise so suddenly; all they need is something to set them off.\\n\\nI\\'ve already written an essay describing the aggressively conventional-minded. The short version is that people can be classified in two dimensions according to (1) how independent- or conventional-minded they are, and (2) how aggressive they are about it. The aggressively conventional-minded are the enforcers of orthodoxy.\\n\\nNormally they\\'re only locally visible. They\\'re the grumpy, censorious people in a group — the ones who are always first to complain when something violates the current rules of propriety. But occasionally, like a vector field whose elements become aligned, a large number of aggressively conventional-minded people unite behind some ideology all at once. Then they become much more of a problem, because a mob dynamic takes over, where the enthusiasm of each participant is increased by the enthusiasm of the others.\\n\\nThe most notorious 20th century case may have been the Cultural Revolution. Though initiated by Mao to undermine his rivals, the Cultural Revolution was otherwise mostly a grass-roots phenomenon. Mao said in essence: There are heretics among us. Seek them out and punish them. And that\\'s all the aggressively conventional-minded ever need to hear. They went at it with the delight of dogs chasing squirrels.\\n\\nTo unite the conventional-minded, an ideology must have many of the features of a religion. In particular it must have strict and arbitrary rules that adherents can demonstrate their purity by obeying, and its adherents must believe that anyone who obeys these rules is ipso facto morally superior to anyone who doesn\\'t. [3]\\n\\nIn the late 1980s a new ideology of this type appeared in US universities. It had a very strong component of moral purity, and the aggressively conventional-minded seized upon it with their usual eagerness — all the more because the relaxation of social norms in the preceding decades meant there had been less and less to forbid. The resulting wave of intolerance has been eerily similar in form to the Cultural Revolution, though fortunately much smaller in magnitude. [4]\\n\\nI\\'ve deliberately avoided mentioning any specific heresies here. Partly because one of the universal tactics of heretic hunters, now as in the past, is to accuse those who disapprove of the way in which they suppress ideas of being heretics themselves. Indeed, this tactic is so consistent that you could use it as a way of detecting witch hunts in any era.\\n\\nAnd that\\'s the second reason I\\'ve avoided mentioning any specific heresies. I want this essay to work in the future, not just now. And unfortunately it probably will. The aggressively conventional-minded will always be among us, looking for things to forbid. All they need is an ideology to tell them what. And it\\'s unlikely the current one will be the last.\\n\\nThere are aggressively conventional-minded people on both the right and the left. The reason the current wave of intolerance comes from the left is simply because the new unifying ideology happened to come from the left. The next one might come from the right. Imagine what that would be like.\\n\\nFortunately in western countries the suppression of heresies is nothing like as bad as it used to be. Though the window of opinions you can express publicly has narrowed in the last decade, it\\'s still much wider than it was a few hundred years ago. The problem is the derivative. Up till about 1985 the window had been growing ever wider. Anyone looking into the future in 1985 would have expected freedom of expression to continue to increase. Instead it has decreased. [5]\\n\\nThe situation is similar to what\\'s happened with infectious diseases like measles. Anyone looking into the future in 2010 would have expected the number of measles cases in the US to continue to decrease. Instead, thanks to anti-vaxxers, it has increased. The absolute number is still not that high. The problem is the derivative. [6]\\n\\nIn both cases it\\'s hard to know how much to worry. Is it really dangerous to society as a whole if a handful of extremists refuse to get their kids vaccinated, or shout down speakers at universities? The point to start worrying is presumably when their efforts start to spill over into everyone else\\'s lives. And in both cases that does seem to be happening.\\n\\nSo it\\'s probably worth spending some amount of effort on pushing back to keep open the window of free expression. My hope is that this essay will help form social antibodies not just against current efforts to suppress ideas, but against the concept of heresy in general. That\\'s the real prize. How do you disable the concept of heresy? Since the Enlightenment, western societies have discovered many techniques for doing that, but there are surely more to be discovered.\\n\\nOverall I\\'m optimistic. Though the trend in freedom of expression has been bad over the last decade, it\\'s been good over the longer term. And there are signs that the current wave of intolerance is peaking. Independent-minded people I talk to seem more confident than they did a few years ago. On the other side, even some of the leaders are starting to wonder if things have gone too far. And popular culture among the young has already moved on. All we have to do is keep pushing back, and the wave collapses. And then we\\'ll be net ahead, because as well as having defeated this wave, we\\'ll also have developed new tactics for resisting the next one.\\n\\n\\n\\n\\n\\n\\n\\n\\n\\nNotes\\n\\n[1] Or more accurately, biographies of Newton, since Westfall wrote two: a long version called Never at Rest, and a shorter one called The Life of Isaac Newton. Both are great. The short version moves faster, but the long one is full of interesting and often very funny details. This passage is the same in both.\\n\\n[2] Another more subtle but equally damning bit of evidence is that claims of x-ism are never qualified. You never hear anyone say that a statement is \"probably x-ist\" or \"almost certainly y-ist.\" If claims of x-ism were actually claims about truth, you\\'d expect to see \"probably\" in front of \"x-ist\" as often as you see it in front of \"fallacious.\"\\n\\n[3] The rules must be strict, but they need not be demanding. So the most effective type of rules are those about superficial matters, like doctrinal minutiae, or the precise words adherents must use. Such rules can be made extremely complicated, and yet don\\'t repel potential converts by requiring significant sacrifice.\\n\\nThe superficial demands of orthodoxy make it an inexpensive substitute for virtue. And that in turn is one of the reasons orthodoxy is so attractive to bad people. You could be a horrible person, and yet as long as you\\'re orthodox, you\\'re better than everyone who isn\\'t.\\n\\n[4] Arguably there were two. The first had died down somewhat by 2000, but was followed by a second in the 2010s, probably caused by social media.\\n\\n[5] Fortunately most of those trying to suppress ideas today still respect Enlightenment principles enough to pay lip service to them. They know they\\'re not supposed to ban ideas per se, so they have to recast the ideas as causing \"harm,\" which sounds like something that can be banned. The more extreme try to claim speech itself is violence, or even that silence is. But strange as it may sound, such gymnastics are a good sign. We\\'ll know we\\'re really in trouble when they stop bothering to invent pretenses for banning ideas — when, like the medieval church, they say \"Damn right we\\'re banning ideas, and in fact here\\'s a list of them.\"\\n\\n[6] People only have the luxury of ignoring the medical consensus about vaccines because vaccines have worked so well. If we didn\\'t have any vaccines at all, the mortality rate would be so high that most current anti-vaxxers would be begging for them. And the situation with freedom of expression is similar. It\\'s only because they live in a world created by the Enlightenment that kids from the suburbs can play at banning ideas.\\n\\n\\n\\nThanks to Marc Andreessen, Chris Best, Trevor Blackwell, Nicholas Christakis, Daniel Gackle, Jonathan Haidt, Claire Lehmann, Jessica Livingston, Greg Lukianoff, Robert Morris, and Garry Tan for reading drafts of this.\\n'},\n",
       " {'role': 'user',\n",
       "  'content': 'Who might have written this, just make 1 guess. No blabbering'},\n",
       " {'role': 'assistant', 'content': 'Based on the writing style'},\n",
       " {'role': 'user',\n",
       "  'content': 'Who might have written this, just make 1 guess. No blabbering'},\n",
       " {'role': 'assistant', 'content': 'Andrew Sullivan'}]"
      ]
     },
     "execution_count": 16,
     "metadata": {},
     "output_type": "execute_result"
    }
   ],
   "source": [
    "llm_session.messages"
   ]
  },
  {
   "cell_type": "code",
   "execution_count": null,
   "metadata": {},
   "outputs": [],
   "source": []
  }
 ],
 "metadata": {
  "kernelspec": {
   "display_name": "context_cache_env",
   "language": "python",
   "name": "python3"
  },
  "language_info": {
   "codemirror_mode": {
    "name": "ipython",
    "version": 3
   },
   "file_extension": ".py",
   "mimetype": "text/x-python",
   "name": "python",
   "nbconvert_exporter": "python",
   "pygments_lexer": "ipython3",
   "version": "3.11.0"
  }
 },
 "nbformat": 4,
 "nbformat_minor": 2
}
